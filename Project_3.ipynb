{
  "nbformat": 4,
  "nbformat_minor": 0,
  "metadata": {
    "kernelspec": {
      "display_name": "Python 3",
      "language": "python",
      "name": "python3"
    },
    "language_info": {
      "codemirror_mode": {
        "name": "ipython",
        "version": 3
      },
      "file_extension": ".py",
      "mimetype": "text/x-python",
      "name": "python",
      "nbconvert_exporter": "python",
      "pygments_lexer": "ipython3",
      "version": "3.6.9"
    },
    "colab": {
      "name": "Project 3.ipynb",
      "provenance": []
    }
  },
  "cells": [
    {
      "cell_type": "markdown",
      "metadata": {
        "id": "8PfTXw7Eo6bN"
      },
      "source": [
        "# Project 3: The relationship between Mental and Physical Health in Texas Counties\n",
        "\n",
        "## SDS348 Spring 2021"
      ]
    },
    {
      "cell_type": "markdown",
      "metadata": {
        "id": "Ht45ZJtlo6bP"
      },
      "source": [
        "### Taylor Gardiner tpg422"
      ]
    },
    {
      "cell_type": "markdown",
      "metadata": {
        "id": "rr36ysdxo6bQ"
      },
      "source": [
        "*For my project, I chose to analyze the way that mental health affects physical health throughout the state of Texas. I have always been interested in the multi-faceted effects of mental health and their lasting impact on overall health. I acquired my datasets through countyhealthrankings.org and limited my data to Texas because I wanted to keep my research local. I used four datasets that I believe created a fairly comprehensive look at mental and physical well-being. The first dataset I used contained information about the average number of poor mental health days in the last 30 days for adults over the age of 20, separated by county. The second dataset I used contained information about the average number of poor physical health days in the last 30 days for adults over the age of 20, separated by county. The third dataset I used showed the percentage of adults over 20 who reported no physical activity, separated by county. The fourth dataset I used showed the percentage of adults over 20 who report a BMI greater than or equal to 30 kg/m^2, also separated by county. Each dataset also contained data about the z-score and error margin associated with each county value. I expect to see that counties that report higher numbers of poor mental health days to also report higher numbers of poor physical health days, higher incidence of physical inactivity, and higher rates of obesity. I expect to see this because mental health can greatly impact an individual’s diet and tendency to exercise. I had to tidy the data to join the columns together and create a new categorical variable. I also had to remove the percentage signs from the inactivity and obesity percentage data. This resulted in the dataset I used for Project 1 and Project 2 and will be using for this project as well.*"
      ]
    },
    {
      "cell_type": "code",
      "metadata": {
        "id": "R_faQUWNo6bQ"
      },
      "source": [
        "# Import packages\n",
        "import pandas as pd\n",
        "import seaborn as sns\n",
        "import scipy.stats as stats\n",
        "import numpy as np\n",
        "import matplotlib.pyplot as plt"
      ],
      "execution_count": 16,
      "outputs": []
    },
    {
      "cell_type": "markdown",
      "metadata": {
        "id": "msznGfH2o6bR"
      },
      "source": [
        "### Importing the Dataset\n",
        "\n",
        "To start, I first imported my dataset and took a look at it using the head function. "
      ]
    },
    {
      "cell_type": "code",
      "metadata": {
        "id": "Q9ZReQYGo6bR"
      },
      "source": [
        "# Import dataset\n",
        "fulldataset = pd.read_csv(\"fulldataset.csv\", index_col=0)"
      ],
      "execution_count": 4,
      "outputs": []
    },
    {
      "cell_type": "code",
      "metadata": {
        "id": "S0aFxJ0Ao6bR",
        "colab": {
          "base_uri": "https://localhost:8080/",
          "height": 266
        },
        "outputId": "da6dec04-faa9-4e78-cd00-e21e3299ae68"
      },
      "source": [
        "fulldataset.head(6)"
      ],
      "execution_count": 5,
      "outputs": [
        {
          "output_type": "execute_result",
          "data": {
            "text/html": [
              "<div>\n",
              "<style scoped>\n",
              "    .dataframe tbody tr th:only-of-type {\n",
              "        vertical-align: middle;\n",
              "    }\n",
              "\n",
              "    .dataframe tbody tr th {\n",
              "        vertical-align: top;\n",
              "    }\n",
              "\n",
              "    .dataframe thead th {\n",
              "        text-align: right;\n",
              "    }\n",
              "</style>\n",
              "<table border=\"1\" class=\"dataframe\">\n",
              "  <thead>\n",
              "    <tr style=\"text-align: right;\">\n",
              "      <th></th>\n",
              "      <th>pmhd</th>\n",
              "      <th>pphd</th>\n",
              "      <th>obesity_percent</th>\n",
              "      <th>inactivity_percent</th>\n",
              "      <th>obesity_level</th>\n",
              "      <th>Unnamed: 6</th>\n",
              "    </tr>\n",
              "    <tr>\n",
              "      <th>County</th>\n",
              "      <th></th>\n",
              "      <th></th>\n",
              "      <th></th>\n",
              "      <th></th>\n",
              "      <th></th>\n",
              "      <th></th>\n",
              "    </tr>\n",
              "  </thead>\n",
              "  <tbody>\n",
              "    <tr>\n",
              "      <th>1</th>\n",
              "      <td>Anderson</td>\n",
              "      <td>4.0</td>\n",
              "      <td>3.9</td>\n",
              "      <td>37</td>\n",
              "      <td>23</td>\n",
              "      <td>med</td>\n",
              "    </tr>\n",
              "    <tr>\n",
              "      <th>2</th>\n",
              "      <td>Andrews</td>\n",
              "      <td>3.7</td>\n",
              "      <td>3.6</td>\n",
              "      <td>35</td>\n",
              "      <td>26</td>\n",
              "      <td>med</td>\n",
              "    </tr>\n",
              "    <tr>\n",
              "      <th>3</th>\n",
              "      <td>Angelina</td>\n",
              "      <td>4.3</td>\n",
              "      <td>4.1</td>\n",
              "      <td>41</td>\n",
              "      <td>35</td>\n",
              "      <td>high</td>\n",
              "    </tr>\n",
              "    <tr>\n",
              "      <th>4</th>\n",
              "      <td>Aransas</td>\n",
              "      <td>4.3</td>\n",
              "      <td>4.1</td>\n",
              "      <td>41</td>\n",
              "      <td>36</td>\n",
              "      <td>high</td>\n",
              "    </tr>\n",
              "    <tr>\n",
              "      <th>5</th>\n",
              "      <td>Archer</td>\n",
              "      <td>3.8</td>\n",
              "      <td>3.4</td>\n",
              "      <td>27</td>\n",
              "      <td>19</td>\n",
              "      <td>low</td>\n",
              "    </tr>\n",
              "    <tr>\n",
              "      <th>6</th>\n",
              "      <td>Armstrong</td>\n",
              "      <td>3.6</td>\n",
              "      <td>3.1</td>\n",
              "      <td>29</td>\n",
              "      <td>23</td>\n",
              "      <td>low</td>\n",
              "    </tr>\n",
              "  </tbody>\n",
              "</table>\n",
              "</div>"
            ],
            "text/plain": [
              "             pmhd  pphd  ...  obesity_level  Unnamed: 6\n",
              "County                   ...                           \n",
              "1        Anderson   4.0  ...             23         med\n",
              "2         Andrews   3.7  ...             26         med\n",
              "3        Angelina   4.3  ...             35        high\n",
              "4         Aransas   4.3  ...             36        high\n",
              "5          Archer   3.8  ...             19         low\n",
              "6       Armstrong   3.6  ...             23         low\n",
              "\n",
              "[6 rows x 6 columns]"
            ]
          },
          "metadata": {
            "tags": []
          },
          "execution_count": 5
        }
      ]
    },
    {
      "cell_type": "markdown",
      "metadata": {
        "id": "Dh3gCdAco6bS"
      },
      "source": [
        "*Unfortunately, when I imported my dataset, the variable titles shifted over, causing the county names to be labeled as \"pmhd\" and poor mental health days to be labeled as \"pphd\". I will take this into account going forward. Using the head function allows me to look at the first 6 rows of my full project dataset. This dataset has 6 variables: County name, average number of poor mental health days in the last 30 days, average number of poor physical health days in the last 30 days, percent of adults with an obese BMI, percent of adults reporting inactivity, and a categorical variable that quantifies counties with obesity percentages over 40% as high, between 30% and 40% as medium, and below 30% as low.*"
      ]
    },
    {
      "cell_type": "code",
      "metadata": {
        "colab": {
          "base_uri": "https://localhost:8080/",
          "height": 0
        },
        "id": "A3Tinc5csYeu",
        "outputId": "045cbbe1-b07d-40f8-9dcc-a87a8d7fb1ef"
      },
      "source": [
        "# Number of observations\n",
        "fulldataset.info"
      ],
      "execution_count": 6,
      "outputs": [
        {
          "output_type": "execute_result",
          "data": {
            "text/plain": [
              "<bound method DataFrame.info of             pmhd  pphd  ...  obesity_level  Unnamed: 6\n",
              "County                  ...                           \n",
              "1       Anderson   4.0  ...             23         med\n",
              "2        Andrews   3.7  ...             26         med\n",
              "3       Angelina   4.3  ...             35        high\n",
              "4        Aransas   4.3  ...             36        high\n",
              "5         Archer   3.8  ...             19         low\n",
              "...          ...   ...  ...            ...         ...\n",
              "250         Wood   4.0  ...             32         low\n",
              "251       Yoakum   3.9  ...             28         med\n",
              "252        Young   4.2  ...             29         med\n",
              "253       Zapata   4.5  ...             20         med\n",
              "254       Zavala   4.9  ...             20         low\n",
              "\n",
              "[254 rows x 6 columns]>"
            ]
          },
          "metadata": {
            "tags": []
          },
          "execution_count": 6
        }
      ]
    },
    {
      "cell_type": "markdown",
      "metadata": {
        "id": "GRuXXOqCshTi"
      },
      "source": [
        "*It can be seen that there are 254 observations on my 6 variables.*"
      ]
    },
    {
      "cell_type": "markdown",
      "metadata": {
        "id": "1DpjPLxFo6bU"
      },
      "source": [
        "### Exploratory Data Analysis\n",
        "\n",
        "To explore my dataset, I wanted to find the mean and standard deviation of poor mental health days and the frequency counts of my obesity level variable. I also wanted to represent this data visually and did so via a histogram for my mental health data and a bar graph for my obesity level data."
      ]
    },
    {
      "cell_type": "code",
      "metadata": {
        "colab": {
          "base_uri": "https://localhost:8080/",
          "height": 0
        },
        "id": "uhY1zfPpvJQm",
        "outputId": "2487cb37-d4bc-4479-f7b5-4f085eff14b9"
      },
      "source": [
        "# Descriptive statistics for poor mental health data\n",
        "np.mean(fulldataset.pphd)"
      ],
      "execution_count": 13,
      "outputs": [
        {
          "output_type": "execute_result",
          "data": {
            "text/plain": [
              "4.0598425196850405"
            ]
          },
          "metadata": {
            "tags": []
          },
          "execution_count": 13
        }
      ]
    },
    {
      "cell_type": "code",
      "metadata": {
        "colab": {
          "base_uri": "https://localhost:8080/",
          "height": 0
        },
        "id": "i6hJpx2Ewy4I",
        "outputId": "64b605e0-aeb4-4fef-cdc5-c5db359ebeeb"
      },
      "source": [
        "np.std(fulldataset.pphd)"
      ],
      "execution_count": 14,
      "outputs": [
        {
          "output_type": "execute_result",
          "data": {
            "text/plain": [
              "0.2677582181538537"
            ]
          },
          "metadata": {
            "tags": []
          },
          "execution_count": 14
        }
      ]
    },
    {
      "cell_type": "markdown",
      "metadata": {
        "id": "XuhCUeWRw1bT"
      },
      "source": [
        "*Because my data is shifted, I had to use the \"pphd\" column title for my poor mental health data. The mean poor mental health days across Texas counties is 4.06 days. The standard deviation of poor mental health days across Texas counties is .27 days."
      ]
    },
    {
      "cell_type": "code",
      "metadata": {
        "colab": {
          "base_uri": "https://localhost:8080/",
          "height": 295
        },
        "id": "oBS2Ts6-xFwz",
        "outputId": "2b40a85e-d251-46e2-d093-bbfc7eda3588"
      },
      "source": [
        "# Visualizing poor mental health with a histogram\n",
        "fulldataset.pphd.plot.hist(grid=True, bins=10, rwidth=0.9,\n",
        "                   color='#607c8e')\n",
        "plt.title('Poor Mental Health Days in Texas Counties')\n",
        "plt.xlabel('Average Poor Mental Health Days')\n",
        "plt.ylabel('Counts')\n",
        "plt.grid(axis='y', alpha=0.75)"
      ],
      "execution_count": 18,
      "outputs": [
        {
          "output_type": "display_data",
          "data": {
            "image/png": "[encoded data removed]",
            "text/plain": [
              "<Figure size 432x288 with 1 Axes>"
            ]
          },
          "metadata": {
            "tags": [],
            "needs_background": "light"
          }
        }
      ]
    },
    {
      "cell_type": "markdown",
      "metadata": {
        "id": "XNvOnHsWyKaq"
      },
      "source": [
        "*It can be seen from the histogram that my poor mental health data is relatively normal and symmetrical. It can also be seen that most counties have an average poor mental health days value between 4.00 and 4.25.*"
      ]
    },
    {
      "cell_type": "code",
      "metadata": {
        "colab": {
          "base_uri": "https://localhost:8080/",
          "height": 266
        },
        "id": "Cl-S_qQIyc15",
        "outputId": "5d64baae-f207-47fa-be20-c14408496410"
      },
      "source": [
        "# Renaming unnamed variable as obesitylevel due to shift\n",
        "fulldataset.rename(columns={'Unnamed: 6':'obesitylevel'}, inplace=True)\n",
        "fulldataset.head(6)"
      ],
      "execution_count": 23,
      "outputs": [
        {
          "output_type": "execute_result",
          "data": {
            "text/html": [
              "<div>\n",
              "<style scoped>\n",
              "    .dataframe tbody tr th:only-of-type {\n",
              "        vertical-align: middle;\n",
              "    }\n",
              "\n",
              "    .dataframe tbody tr th {\n",
              "        vertical-align: top;\n",
              "    }\n",
              "\n",
              "    .dataframe thead th {\n",
              "        text-align: right;\n",
              "    }\n",
              "</style>\n",
              "<table border=\"1\" class=\"dataframe\">\n",
              "  <thead>\n",
              "    <tr style=\"text-align: right;\">\n",
              "      <th></th>\n",
              "      <th>pmhd</th>\n",
              "      <th>pphd</th>\n",
              "      <th>obesity_percent</th>\n",
              "      <th>inactivity_percent</th>\n",
              "      <th>obesity_level</th>\n",
              "      <th>obesitylevel</th>\n",
              "    </tr>\n",
              "    <tr>\n",
              "      <th>County</th>\n",
              "      <th></th>\n",
              "      <th></th>\n",
              "      <th></th>\n",
              "      <th></th>\n",
              "      <th></th>\n",
              "      <th></th>\n",
              "    </tr>\n",
              "  </thead>\n",
              "  <tbody>\n",
              "    <tr>\n",
              "      <th>1</th>\n",
              "      <td>Anderson</td>\n",
              "      <td>4.0</td>\n",
              "      <td>3.9</td>\n",
              "      <td>37</td>\n",
              "      <td>23</td>\n",
              "      <td>med</td>\n",
              "    </tr>\n",
              "    <tr>\n",
              "      <th>2</th>\n",
              "      <td>Andrews</td>\n",
              "      <td>3.7</td>\n",
              "      <td>3.6</td>\n",
              "      <td>35</td>\n",
              "      <td>26</td>\n",
              "      <td>med</td>\n",
              "    </tr>\n",
              "    <tr>\n",
              "      <th>3</th>\n",
              "      <td>Angelina</td>\n",
              "      <td>4.3</td>\n",
              "      <td>4.1</td>\n",
              "      <td>41</td>\n",
              "      <td>35</td>\n",
              "      <td>high</td>\n",
              "    </tr>\n",
              "    <tr>\n",
              "      <th>4</th>\n",
              "      <td>Aransas</td>\n",
              "      <td>4.3</td>\n",
              "      <td>4.1</td>\n",
              "      <td>41</td>\n",
              "      <td>36</td>\n",
              "      <td>high</td>\n",
              "    </tr>\n",
              "    <tr>\n",
              "      <th>5</th>\n",
              "      <td>Archer</td>\n",
              "      <td>3.8</td>\n",
              "      <td>3.4</td>\n",
              "      <td>27</td>\n",
              "      <td>19</td>\n",
              "      <td>low</td>\n",
              "    </tr>\n",
              "    <tr>\n",
              "      <th>6</th>\n",
              "      <td>Armstrong</td>\n",
              "      <td>3.6</td>\n",
              "      <td>3.1</td>\n",
              "      <td>29</td>\n",
              "      <td>23</td>\n",
              "      <td>low</td>\n",
              "    </tr>\n",
              "  </tbody>\n",
              "</table>\n",
              "</div>"
            ],
            "text/plain": [
              "             pmhd  pphd  ...  obesity_level  obesitylevel\n",
              "County                   ...                             \n",
              "1        Anderson   4.0  ...             23           med\n",
              "2         Andrews   3.7  ...             26           med\n",
              "3        Angelina   4.3  ...             35          high\n",
              "4         Aransas   4.3  ...             36          high\n",
              "5          Archer   3.8  ...             19           low\n",
              "6       Armstrong   3.6  ...             23           low\n",
              "\n",
              "[6 rows x 6 columns]"
            ]
          },
          "metadata": {
            "tags": []
          },
          "execution_count": 23
        }
      ]
    },
    {
      "cell_type": "code",
      "metadata": {
        "colab": {
          "base_uri": "https://localhost:8080/",
          "height": 0
        },
        "id": "CmPbLdcTzTG_",
        "outputId": "791c16a7-ef8c-4214-eb4e-17c966b4d68c"
      },
      "source": [
        "# Descriptive statistics for obesity level data\n",
        "fulldataset['obesitylevel'].value_counts()"
      ],
      "execution_count": 24,
      "outputs": [
        {
          "output_type": "execute_result",
          "data": {
            "text/plain": [
              "med     127\n",
              "low     107\n",
              "high     20\n",
              "Name: obesitylevel, dtype: int64"
            ]
          },
          "metadata": {
            "tags": []
          },
          "execution_count": 24
        }
      ]
    },
    {
      "cell_type": "markdown",
      "metadata": {
        "id": "3ucstaWyzcma"
      },
      "source": [
        "*First, I had to rename my variable because it was imported as an unnamed column. After I did that, I found the number of counties in each obesity level. There are 107 counties in the \"low\" obesity category, 127 in the \"medium\" category, and 20 in the \"high\" category.*"
      ]
    },
    {
      "cell_type": "code",
      "metadata": {
        "colab": {
          "base_uri": "https://localhost:8080/",
          "height": 295
        },
        "id": "beZIfU-RztnJ",
        "outputId": "b4536f36-651f-47eb-8016-d31185fea30f"
      },
      "source": [
        "# Visualizing my obesity level data with a bar graph\n",
        "level = ['Low','Medium','High']\n",
        "count = [107,127,20]\n",
        "\n",
        "plt.bar(level,count)\n",
        "plt.title('Number of Counties per Obesity Category')\n",
        "plt.xlabel('Obesity Category')\n",
        "plt.ylabel('# of Counties')\n",
        "plt.show()"
      ],
      "execution_count": 26,
      "outputs": [
        {
          "output_type": "display_data",
          "data": {
            "image/png": "[encoded data removed]",
            "text/plain": [
              "<Figure size 432x288 with 1 Axes>"
            ]
          },
          "metadata": {
            "tags": [],
            "needs_background": "light"
          }
        }
      ]
    },
    {
      "cell_type": "markdown",
      "metadata": {
        "id": "WxhtMCMf0mb9"
      },
      "source": [
        "*This bar chart allowed me to visually analyze the distribution of counties amongst the three obesity categories.*"
      ]
    }
  ]
}